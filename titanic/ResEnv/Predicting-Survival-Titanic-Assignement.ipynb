{
 "cells": [
  {
   "cell_type": "markdown",
   "metadata": {},
   "source": [
    "## Predicting Survival on the Titanic\n",
    "\n",
    "### History\n",
    "Perhaps one of the most infamous shipwrecks in history, the Titanic sank after colliding with an iceberg, killing 1502 out of 2224 people on board. Interestingly, by analysing the probability of survival based on few attributes like gender, age, and social status, we can make very accurate predictions on which passengers would survive. Some groups of people were more likely to survive than others, such as women, children, and the upper-class. Therefore, we can learn about the society priorities and privileges at the time.\n",
    "\n",
    "### Assignment:\n",
    "\n",
    "Build a Machine Learning Pipeline, to engineer the features in the data set and predict who is more likely to Survive the catastrophe.\n",
    "\n",
    "Follow the Jupyter notebook below, and complete the missing bits of code, to achieve each one of the pipeline steps."
   ]
  },
  {
   "cell_type": "code",
   "execution_count": 1,
   "metadata": {
    "pycharm": {
     "is_executing": false
    }
   },
   "outputs": [],
   "source": [
    "import re\n",
    "\n",
    "# to handle datasets\n",
    "import pandas as pd\n",
    "import numpy as np\n",
    "\n",
    "# for visualization\n",
    "import matplotlib.pyplot as plt\n",
    "\n",
    "# to divide train and test set\n",
    "from sklearn.model_selection import train_test_split\n",
    "\n",
    "# feature scaling\n",
    "from sklearn.preprocessing import StandardScaler\n",
    "\n",
    "# to build the models\n",
    "from sklearn.linear_model import LogisticRegression\n",
    "\n",
    "# to evaluate the models\n",
    "from sklearn.metrics import accuracy_score, roc_auc_score\n",
    "\n",
    "# to persist the model and the scaler\n",
    "import joblib\n",
    "\n",
    "# to visualise al the columns in the dataframe\n",
    "pd.pandas.set_option('display.max_columns', None)\n",
    "\n",
    "%config IPCompleter.greedy=True"
   ]
  },
  {
   "cell_type": "markdown",
   "metadata": {},
   "source": [
    "## Prepare the data set"
   ]
  },
  {
   "cell_type": "code",
   "execution_count": 2,
   "metadata": {
    "pycharm": {
     "is_executing": false
    }
   },
   "outputs": [
    {
     "data": {
      "text/html": [
       "<div>\n",
       "<style scoped>\n",
       "    .dataframe tbody tr th:only-of-type {\n",
       "        vertical-align: middle;\n",
       "    }\n",
       "\n",
       "    .dataframe tbody tr th {\n",
       "        vertical-align: top;\n",
       "    }\n",
       "\n",
       "    .dataframe thead th {\n",
       "        text-align: right;\n",
       "    }\n",
       "</style>\n",
       "<table border=\"1\" class=\"dataframe\">\n",
       "  <thead>\n",
       "    <tr style=\"text-align: right;\">\n",
       "      <th></th>\n",
       "      <th>pclass</th>\n",
       "      <th>survived</th>\n",
       "      <th>name</th>\n",
       "      <th>sex</th>\n",
       "      <th>age</th>\n",
       "      <th>sibsp</th>\n",
       "      <th>parch</th>\n",
       "      <th>ticket</th>\n",
       "      <th>fare</th>\n",
       "      <th>cabin</th>\n",
       "      <th>embarked</th>\n",
       "      <th>boat</th>\n",
       "      <th>body</th>\n",
       "      <th>home.dest</th>\n",
       "    </tr>\n",
       "  </thead>\n",
       "  <tbody>\n",
       "    <tr>\n",
       "      <th>0</th>\n",
       "      <td>1</td>\n",
       "      <td>1</td>\n",
       "      <td>Allen, Miss. Elisabeth Walton</td>\n",
       "      <td>female</td>\n",
       "      <td>29</td>\n",
       "      <td>0</td>\n",
       "      <td>0</td>\n",
       "      <td>24160</td>\n",
       "      <td>211.3375</td>\n",
       "      <td>B5</td>\n",
       "      <td>S</td>\n",
       "      <td>2</td>\n",
       "      <td>?</td>\n",
       "      <td>St Louis, MO</td>\n",
       "    </tr>\n",
       "    <tr>\n",
       "      <th>1</th>\n",
       "      <td>1</td>\n",
       "      <td>1</td>\n",
       "      <td>Allison, Master. Hudson Trevor</td>\n",
       "      <td>male</td>\n",
       "      <td>0.9167</td>\n",
       "      <td>1</td>\n",
       "      <td>2</td>\n",
       "      <td>113781</td>\n",
       "      <td>151.55</td>\n",
       "      <td>C22 C26</td>\n",
       "      <td>S</td>\n",
       "      <td>11</td>\n",
       "      <td>?</td>\n",
       "      <td>Montreal, PQ / Chesterville, ON</td>\n",
       "    </tr>\n",
       "    <tr>\n",
       "      <th>2</th>\n",
       "      <td>1</td>\n",
       "      <td>0</td>\n",
       "      <td>Allison, Miss. Helen Loraine</td>\n",
       "      <td>female</td>\n",
       "      <td>2</td>\n",
       "      <td>1</td>\n",
       "      <td>2</td>\n",
       "      <td>113781</td>\n",
       "      <td>151.55</td>\n",
       "      <td>C22 C26</td>\n",
       "      <td>S</td>\n",
       "      <td>?</td>\n",
       "      <td>?</td>\n",
       "      <td>Montreal, PQ / Chesterville, ON</td>\n",
       "    </tr>\n",
       "    <tr>\n",
       "      <th>3</th>\n",
       "      <td>1</td>\n",
       "      <td>0</td>\n",
       "      <td>Allison, Mr. Hudson Joshua Creighton</td>\n",
       "      <td>male</td>\n",
       "      <td>30</td>\n",
       "      <td>1</td>\n",
       "      <td>2</td>\n",
       "      <td>113781</td>\n",
       "      <td>151.55</td>\n",
       "      <td>C22 C26</td>\n",
       "      <td>S</td>\n",
       "      <td>?</td>\n",
       "      <td>135</td>\n",
       "      <td>Montreal, PQ / Chesterville, ON</td>\n",
       "    </tr>\n",
       "    <tr>\n",
       "      <th>4</th>\n",
       "      <td>1</td>\n",
       "      <td>0</td>\n",
       "      <td>Allison, Mrs. Hudson J C (Bessie Waldo Daniels)</td>\n",
       "      <td>female</td>\n",
       "      <td>25</td>\n",
       "      <td>1</td>\n",
       "      <td>2</td>\n",
       "      <td>113781</td>\n",
       "      <td>151.55</td>\n",
       "      <td>C22 C26</td>\n",
       "      <td>S</td>\n",
       "      <td>?</td>\n",
       "      <td>?</td>\n",
       "      <td>Montreal, PQ / Chesterville, ON</td>\n",
       "    </tr>\n",
       "  </tbody>\n",
       "</table>\n",
       "</div>"
      ],
      "text/plain": [
       "   pclass  survived                                             name     sex  \\\n",
       "0       1         1                    Allen, Miss. Elisabeth Walton  female   \n",
       "1       1         1                   Allison, Master. Hudson Trevor    male   \n",
       "2       1         0                     Allison, Miss. Helen Loraine  female   \n",
       "3       1         0             Allison, Mr. Hudson Joshua Creighton    male   \n",
       "4       1         0  Allison, Mrs. Hudson J C (Bessie Waldo Daniels)  female   \n",
       "\n",
       "      age  sibsp  parch  ticket      fare    cabin embarked boat body  \\\n",
       "0      29      0      0   24160  211.3375       B5        S    2    ?   \n",
       "1  0.9167      1      2  113781    151.55  C22 C26        S   11    ?   \n",
       "2       2      1      2  113781    151.55  C22 C26        S    ?    ?   \n",
       "3      30      1      2  113781    151.55  C22 C26        S    ?  135   \n",
       "4      25      1      2  113781    151.55  C22 C26        S    ?    ?   \n",
       "\n",
       "                         home.dest  \n",
       "0                     St Louis, MO  \n",
       "1  Montreal, PQ / Chesterville, ON  \n",
       "2  Montreal, PQ / Chesterville, ON  \n",
       "3  Montreal, PQ / Chesterville, ON  \n",
       "4  Montreal, PQ / Chesterville, ON  "
      ]
     },
     "execution_count": 2,
     "metadata": {},
     "output_type": "execute_result"
    }
   ],
   "source": [
    "# load the data - it is available open source and online\n",
    "\n",
    "data = pd.read_csv('https://www.openml.org/data/get_csv/16826755/phpMYEkMl')\n",
    "\n",
    "# display data\n",
    "data.head()"
   ]
  },
  {
   "cell_type": "code",
   "execution_count": 3,
   "metadata": {
    "pycharm": {
     "is_executing": false
    }
   },
   "outputs": [],
   "source": [
    "data = data.replace('?', np.nan)"
   ]
  },
  {
   "cell_type": "code",
   "execution_count": 4,
   "metadata": {},
   "outputs": [],
   "source": [
    "# retain only the first cabin if more than\n",
    "# 1 are available per passenger\n",
    "\n",
    "def get_first_cabin(row):\n",
    "    try:\n",
    "        return row.split()[0]\n",
    "    except:\n",
    "        return np.nan\n",
    "    \n",
    "data['cabin'] = data['cabin'].apply(get_first_cabin)"
   ]
  },
  {
   "cell_type": "code",
   "execution_count": 5,
   "metadata": {},
   "outputs": [
    {
     "data": {
      "text/plain": [
       "0      Miss\n",
       "1    Master\n",
       "2      Miss\n",
       "3        Mr\n",
       "4       Mrs\n",
       "Name: title, dtype: object"
      ]
     },
     "execution_count": 5,
     "metadata": {},
     "output_type": "execute_result"
    }
   ],
   "source": [
    "# extracts the title (Mr, Ms, etc) from the name variable\n",
    "\n",
    "def get_title(passenger):\n",
    "    line = passenger\n",
    "    if re.search('Mrs', line):\n",
    "        return 'Mrs'\n",
    "    elif re.search('Mr', line):\n",
    "        return 'Mr'\n",
    "    elif re.search('Miss', line):\n",
    "        return 'Miss'\n",
    "    elif re.search('Master', line):\n",
    "        return 'Master'\n",
    "    else:\n",
    "        return 'Other'\n",
    "    \n",
    "data['title'] = data['name'].apply(get_title)\n",
    "data['title'].head()"
   ]
  },
  {
   "cell_type": "code",
   "execution_count": 6,
   "metadata": {},
   "outputs": [
    {
     "name": "stdout",
     "output_type": "stream",
     "text": [
      "type of fare: float64\n",
      "type of age: float64\n"
     ]
    }
   ],
   "source": [
    "# cast numerical variables as floats\n",
    "data['fare'] = data['fare'].astype('float')\n",
    "data['age'] = data['age'].astype('float')\n",
    "\n",
    "\n",
    "# cast numerical variables as floats\n",
    "print(f'type of fare: {data[\"fare\"].dtype}')\n",
    "print(f'type of age: {data[\"age\"].dtype}')\n"
   ]
  },
  {
   "cell_type": "code",
   "execution_count": 7,
   "metadata": {},
   "outputs": [
    {
     "name": "stdout",
     "output_type": "stream",
     "text": [
      "pclass\n",
      "survived\n",
      "sex\n",
      "age\n",
      "sibsp\n",
      "parch\n",
      "fare\n",
      "cabin\n",
      "embarked\n",
      "title\n"
     ]
    }
   ],
   "source": [
    "# drop unnecessary variables\n",
    "\n",
    "data.drop(labels=['name','ticket', 'boat', 'body','home.dest'], axis=1, inplace=True)\n",
    "\n",
    "# display data\n",
    "# data.head()\n",
    "print(*data.columns, sep='\\n')"
   ]
  },
  {
   "cell_type": "code",
   "execution_count": 8,
   "metadata": {},
   "outputs": [],
   "source": [
    "# save the data set\n",
    "\n",
    "data.to_csv('titanic.csv', index=False)"
   ]
  },
  {
   "cell_type": "markdown",
   "metadata": {
    "pycharm": {
     "name": "#%% md\n"
    }
   },
   "source": [
    "## Data Exploration\n",
    "\n",
    "### Find numerical and categorical variables"
   ]
  },
  {
   "cell_type": "code",
   "execution_count": 9,
   "metadata": {
    "pycharm": {
     "name": "#%%\n"
    }
   },
   "outputs": [],
   "source": [
    "target = 'survived'"
   ]
  },
  {
   "cell_type": "code",
   "execution_count": 10,
   "metadata": {},
   "outputs": [
    {
     "name": "stdout",
     "output_type": "stream",
     "text": [
      "Number of numerical variables: 5\n",
      "Number of categorical variables: 4\n"
     ]
    }
   ],
   "source": [
    "vars_num = [var \n",
    "            for var in data.columns\n",
    "            if data[var].dtypes != 'O' and var != target]\n",
    "\n",
    "vars_cat = [var\n",
    "           for var in data.columns\n",
    "           if data[var].dtypes == 'O' and var != target]\n",
    "\n",
    "print('Number of numerical variables: {}'.format(len(vars_num)))\n",
    "print('Number of categorical variables: {}'.format(len(vars_cat)))"
   ]
  },
  {
   "cell_type": "markdown",
   "metadata": {
    "pycharm": {
     "name": "#%% md\n"
    }
   },
   "source": [
    "### Find missing values in variables"
   ]
  },
  {
   "cell_type": "code",
   "execution_count": 11,
   "metadata": {
    "pycharm": {
     "name": "#%%\n"
    }
   },
   "outputs": [
    {
     "data": {
      "text/plain": [
       "{'age': 263, 'fare': 1}"
      ]
     },
     "execution_count": 11,
     "metadata": {},
     "output_type": "execute_result"
    }
   ],
   "source": [
    "def find_na(X, cols):\n",
    "    \n",
    "    vars_with_na = list(filter(lambda col: X[col].isnull().any(), cols))\n",
    "    \n",
    "    return X[vars_with_na].isnull().sum().to_dict()\n",
    "\n",
    "    \n",
    "# first in numerical variables\n",
    "find_na(data, vars_num)"
   ]
  },
  {
   "cell_type": "code",
   "execution_count": 12,
   "metadata": {},
   "outputs": [
    {
     "data": {
      "text/plain": [
       "{'cabin': 1014, 'embarked': 2}"
      ]
     },
     "execution_count": 12,
     "metadata": {},
     "output_type": "execute_result"
    }
   ],
   "source": [
    "# now in categorical variables\n",
    "find_na(data, vars_cat)\n",
    "\n"
   ]
  },
  {
   "cell_type": "markdown",
   "metadata": {
    "pycharm": {
     "name": "#%% md\n"
    }
   },
   "source": [
    "### Determine cardinality of categorical variables"
   ]
  },
  {
   "cell_type": "code",
   "execution_count": 13,
   "metadata": {
    "pycharm": {
     "name": "#%%\n"
    }
   },
   "outputs": [
    {
     "name": "stdout",
     "output_type": "stream",
     "text": [
      "sex : 2\n",
      "cabin : 181\n",
      "embarked : 3\n",
      "title : 5\n"
     ]
    }
   ],
   "source": [
    "for var in vars_cat:\n",
    "    print(f'{var} : {data[var].nunique()}')    "
   ]
  },
  {
   "cell_type": "markdown",
   "metadata": {
    "pycharm": {
     "name": "#%% md\n"
    }
   },
   "source": [
    "### Determine the distribution of numerical variables"
   ]
  },
  {
   "cell_type": "code",
   "execution_count": 14,
   "metadata": {
    "pycharm": {
     "name": "#%%\n"
    }
   },
   "outputs": [
    {
     "data": {
      "image/png": "[encoded data removed]",
      "text/plain": [
       "<Figure size 432x288 with 1 Axes>"
      ]
     },
     "metadata": {
      "needs_background": "light"
     },
     "output_type": "display_data"
    },
    {
     "data": {
      "image/png": "[encoded data removed]",
      "text/plain": [
       "<Figure size 432x288 with 1 Axes>"
      ]
     },
     "metadata": {
      "needs_background": "light"
     },
     "output_type": "display_data"
    },
    {
     "data": {
      "image/png": "[encoded data removed]",
      "text/plain": [
       "<Figure size 432x288 with 1 Axes>"
      ]
     },
     "metadata": {
      "needs_background": "light"
     },
     "output_type": "display_data"
    },
    {
     "data": {
      "image/png": "[encoded data removed]",
      "text/plain": [
       "<Figure size 432x288 with 1 Axes>"
      ]
     },
     "metadata": {
      "needs_background": "light"
     },
     "output_type": "display_data"
    },
    {
     "data": {
      "image/png": "[encoded data removed]",
      "text/plain": [
       "<Figure size 432x288 with 1 Axes>"
      ]
     },
     "metadata": {
      "needs_background": "light"
     },
     "output_type": "display_data"
    }
   ],
   "source": [
    "def print_distributions(X, col):\n",
    "\n",
    "    X[col].plot(kind='hist')\n",
    "    plt.title(col)\n",
    "    plt.show()\n",
    "    \n",
    "for col in vars_num:\n",
    "    print_distributions(data, col)\n",
    "    "
   ]
  },
  {
   "cell_type": "markdown",
   "metadata": {
    "pycharm": {
     "name": "#%% md\n"
    }
   },
   "source": [
    "## Separate data into train and test\n",
    "\n",
    "Use the code below for reproducibility. Don't change it."
   ]
  },
  {
   "cell_type": "code",
   "execution_count": 15,
   "metadata": {
    "pycharm": {
     "name": "#%%\n"
    }
   },
   "outputs": [
    {
     "data": {
      "text/plain": [
       "((1047, 9), (262, 9))"
      ]
     },
     "execution_count": 15,
     "metadata": {},
     "output_type": "execute_result"
    }
   ],
   "source": [
    "X_train, X_test, y_train, y_test = train_test_split(\n",
    "    data.drop('survived', axis=1),  # predictors\n",
    "    data['survived'],  # target\n",
    "    test_size=0.2,  # percentage of obs in test set\n",
    "    random_state=0)  # seed to ensure reproducibility\n",
    "\n",
    "X_train.shape, X_test.shape\n",
    "\n"
   ]
  },
  {
   "cell_type": "markdown",
   "metadata": {
    "pycharm": {
     "name": "#%% md\n"
    }
   },
   "source": [
    "## Feature Engineering\n",
    "\n",
    "### Extract only the letter (and drop the number) from the variable Cabin"
   ]
  },
  {
   "cell_type": "code",
   "execution_count": 16,
   "metadata": {
    "pycharm": {
     "name": "#%%\n"
    }
   },
   "outputs": [
    {
     "name": "stdout",
     "output_type": "stream",
     "text": [
      "['E50', 'C47', 'C125', 'F33', 'D26']\n",
      "55     B96\n",
      "142    B82\n",
      "312    C80\n",
      "161    D11\n",
      "124    B41\n",
      "Name: cabin, dtype: object\n",
      "['D', 'B', 'E', 'E', 'C']\n",
      "194    C\n",
      "49     B\n",
      "215    D\n",
      "55     B\n",
      "295    C\n",
      "Name: cabin, dtype: object\n"
     ]
    }
   ],
   "source": [
    "def get_first_cabin(row):\n",
    "    try:\n",
    "        return row[0]\n",
    "    except:\n",
    "        return np.nan\n",
    "    \n",
    "print(X_train['cabin'][~X_train['cabin'].isnull()].sample(5).to_list())\n",
    "print(X_test['cabin'][~X_test['cabin'].isnull()].sample(5))    \n",
    "\n",
    "X_train['cabin'] = X_train['cabin'].apply(get_first_cabin)\n",
    "X_test['cabin'] = X_test['cabin'].apply(get_first_cabin)\n",
    "\n",
    "print(X_train['cabin'][~X_train['cabin'].isnull()].sample(5).to_list())\n",
    "print(X_test['cabin'][~X_test['cabin'].isnull()].sample(5))    \n"
   ]
  },
  {
   "cell_type": "markdown",
   "metadata": {
    "pycharm": {
     "name": "#%% md\n"
    }
   },
   "source": [
    "### Fill in Missing data in numerical variables:\n",
    "\n",
    "- Add a binary missing indicator\n",
    "- Fill NA in original variable with the median"
   ]
  },
  {
   "cell_type": "code",
   "execution_count": 17,
   "metadata": {
    "pycharm": {
     "name": "#%%\n"
    }
   },
   "outputs": [
    {
     "name": "stdout",
     "output_type": "stream",
     "text": [
      "========missing========\n",
      "========train========\n",
      "fare: 1\n",
      "age: 206\n",
      "========test========\n",
      "age: 57\n",
      "\n",
      "############################\n",
      "\n",
      "train\n",
      "===== before missing imputation ======\n",
      "fare      1\n",
      "age     206\n",
      "dtype: int64\n",
      "===== after missing imputation ======\n",
      "missing values:\n",
      "fare    0\n",
      "age     0\n",
      "dtype: int64\n",
      "missing indicator:\n",
      "fare_na      1\n",
      "age_na     206\n",
      "dtype: int64\n",
      "test\n",
      "===== before missing imputation ======\n",
      "fare     0\n",
      "age     57\n",
      "dtype: int64\n",
      "===== after missing imputation ======\n",
      "missing values:\n",
      "fare    0\n",
      "age     0\n",
      "dtype: int64\n",
      "missing indicator:\n",
      "fare_na     0\n",
      "age_na     57\n",
      "dtype: int64\n"
     ]
    }
   ],
   "source": [
    "def get_mapper_median(X_train):\n",
    "    mapper_median = X_train.agg('median').to_dict()\n",
    "    joblib.dump(mapper_median, 'missing_numerical_mapper_median.pkl')\n",
    "\n",
    "    return mapper_median\n",
    "\n",
    "def create_missing_indicator(X, col):\n",
    "    return np.where(X[col].isnull(), 1, 0)\n",
    "\n",
    "def impute_na_numerical(X, col, mapper_median):\n",
    "    return X[col].fillna(mapper_median[col])\n",
    "\n",
    "\n",
    "vars_num_with_na = list({\n",
    "    *[var for var in vars_num if X_train[var].isnull().any()],\n",
    "    *[var for var in vars_num if X_test[var].isnull().any()]\n",
    "})\n",
    "\n",
    "get_mapper_median(X_train[vars_num_with_na])\n",
    "mapper_median = joblib.load('missing_numerical_mapper_median.pkl')\n",
    "\n",
    "print('========missing========')\n",
    "print('========train========')\n",
    "for col in X_train[vars_num_with_na].columns[X_train[vars_num_with_na].isnull().any()]:\n",
    "    print(f'{col}: {X_train[col].isnull().sum()}')\n",
    "print('========test========')\n",
    "for col in X_test[vars_num_with_na].columns[X_test[vars_num_with_na].isnull().any()]:\n",
    "    print(f'{col}: {X_test[col].isnull().sum()}')\n",
    "\n",
    "print('')\n",
    "print('############################')\n",
    "print('')\n",
    "# ============================================================================== #\n",
    "\n",
    "# ======================= train ==========================\n",
    "print('train')\n",
    "print('===== before missing imputation ======')\n",
    "print(X_train[vars_num_with_na].isnull().sum())\n",
    "\n",
    "for col in vars_num_with_na:\n",
    "    # train\n",
    "    X_train[col + '_na'] = create_missing_indicator(X_train, col)\n",
    "    X_train[col] = impute_na_numerical(X_train, col, mapper_median)\n",
    "\n",
    "print('===== after missing imputation ======')\n",
    "print('missing values:')\n",
    "print(X_train[vars_num_with_na].isnull().sum())\n",
    "print('missing indicator:')\n",
    "print(X_train[[var + '_na' for var in vars_num_with_na]].sum())\n",
    "\n",
    "# ======================= test ==========================\n",
    "print('test')\n",
    "print('===== before missing imputation ======')\n",
    "print(X_test[vars_num_with_na].isnull().sum())\n",
    "\n",
    "for col in vars_num_with_na:\n",
    "    # train\n",
    "    X_test[col + '_na'] = create_missing_indicator(X_test, col)\n",
    "    X_test[col] = impute_na_numerical(X_test, col, mapper_median)\n",
    "\n",
    "print('===== after missing imputation ======')\n",
    "print('missing values:')\n",
    "print(X_test[vars_num_with_na].isnull().sum())\n",
    "print('missing indicator:')\n",
    "print(X_test[[var + '_na' for var in vars_num_with_na]].sum())\n"
   ]
  },
  {
   "cell_type": "markdown",
   "metadata": {
    "pycharm": {
     "name": "#%% md\n"
    }
   },
   "source": [
    "### Replace Missing data in categorical variables with the string **Missing**"
   ]
  },
  {
   "cell_type": "code",
   "execution_count": 18,
   "metadata": {},
   "outputs": [
    {
     "name": "stdout",
     "output_type": "stream",
     "text": [
      "========missing========\n",
      "========train========\n",
      "embarked: 2\n",
      "cabin: 803\n",
      "========test========\n",
      "embarked: 0\n",
      "cabin: 211\n",
      "========missing========\n",
      "========train========\n",
      "embarked: 0\n",
      "cabin: 0\n",
      "========test========\n",
      "embarked: 0\n",
      "cabin: 0\n"
     ]
    }
   ],
   "source": [
    "\n",
    "# ======================================================\n",
    "# ======================================================\n",
    "# ============================= Categorical Missing ================================ #\n",
    "def impute_na_cat(X, col, replacement='Missing'):\n",
    "    return X[col].fillna(replacement)\n",
    "\n",
    "vars_cat_with_na = list({\n",
    "\n",
    "    *[var for var in vars_cat if X_train[var].isnull().any()],\n",
    "    *[var for var in vars_cat if X_train[var].isnull().any()]\n",
    "})\n",
    "\n",
    "print('========missing========')\n",
    "print('========train========')\n",
    "for col in vars_cat_with_na:\n",
    "    print(f'{col}: {X_train[col].isnull().sum()}')\n",
    "print('========test========')\n",
    "for col in vars_cat_with_na:\n",
    "    print(f'{col}: {X_test[col].isnull().sum()}')\n",
    "\n",
    "for col in vars_cat:\n",
    "    X_train[col] = impute_na_cat(X_train, col)\n",
    "    X_test[col] = impute_na_cat(X_test, col)\n",
    "\n",
    "print('========missing========')\n",
    "print('========train========')\n",
    "for col in vars_cat_with_na:\n",
    "    print(f'{col}: {X_train[col].isnull().sum()}')\n",
    "print('========test========')\n",
    "for col in vars_cat_with_na:\n",
    "    print(f'{col}: {X_test[col].isnull().sum()}')\n"
   ]
  },
  {
   "cell_type": "markdown",
   "metadata": {},
   "source": [
    "### Remove rare labels in categorical variables\n",
    "\n",
    "- remove labels present in less than 5 % of the passengers"
   ]
  },
  {
   "cell_type": "code",
   "execution_count": 19,
   "metadata": {},
   "outputs": [
    {
     "name": "stdout",
     "output_type": "stream",
     "text": [
      "==========sex=========\n",
      "{'male': 0.633, 'female': 0.367}\n",
      "=======================\n",
      "==========cabin=========\n",
      "{'Missing': 0.767, 'C': 0.074, 'B': 0.05, 'D': 0.034, 'E': 0.034, 'A': 0.018, 'F': 0.017, 'G': 0.004, 'T': 0.001}\n",
      "=======================\n",
      "==========embarked=========\n",
      "{'S': 0.71, 'C': 0.196, 'Q': 0.093, 'Missing': 0.002}\n",
      "=======================\n",
      "==========title=========\n",
      "{'Mr': 0.569, 'Miss': 0.201, 'Mrs': 0.16, 'Master': 0.045, 'Other': 0.026}\n",
      "=======================\n"
     ]
    }
   ],
   "source": [
    "for var in vars_cat:\n",
    "    print(f'=========={var}=========')\n",
    "    print(X_train[var].value_counts(normalize=True).round(3).to_dict())\n",
    "    print(f'=======================')"
   ]
  },
  {
   "cell_type": "code",
   "execution_count": 20,
   "metadata": {},
   "outputs": [
    {
     "name": "stdout",
     "output_type": "stream",
     "text": [
      "train\n",
      "==========sex=========\n",
      "==========before=========\n",
      "{\n",
      "\"male\": 0.633,\n",
      "\"female\": 0.367\n",
      "}\n",
      "=======================\n",
      "==========after=========\n",
      "{\n",
      "\"male\": 0.633,\n",
      "\"female\": 0.367\n",
      "}\n",
      "=======================\n",
      "==========cabin=========\n",
      "==========before=========\n",
      "{\n",
      "\"Missing\": 0.767,\n",
      "\"C\": 0.074,\n",
      "\"B\": 0.05,\n",
      "\"D\": 0.034,\n",
      "\"E\": 0.034,\n",
      "\"A\": 0.018,\n",
      "\"F\": 0.017,\n",
      "\"G\": 0.004,\n",
      "\"T\": 0.001\n",
      "}\n",
      "=======================\n",
      "==========after=========\n",
      "{\n",
      "\"Missing\": 0.767,\n",
      "\"Rare\": 0.159,\n",
      "\"C\": 0.074\n",
      "}\n",
      "=======================\n",
      "==========embarked=========\n",
      "==========before=========\n",
      "{\n",
      "\"S\": 0.71,\n",
      "\"C\": 0.196,\n",
      "\"Q\": 0.093,\n",
      "\"Missing\": 0.002\n",
      "}\n",
      "=======================\n",
      "==========after=========\n",
      "{\n",
      "\"S\": 0.71,\n",
      "\"C\": 0.196,\n",
      "\"Q\": 0.093,\n",
      "\"Rare\": 0.002\n",
      "}\n",
      "=======================\n",
      "==========title=========\n",
      "==========before=========\n",
      "{\n",
      "\"Mr\": 0.569,\n",
      "\"Miss\": 0.201,\n",
      "\"Mrs\": 0.16,\n",
      "\"Master\": 0.045,\n",
      "\"Other\": 0.026\n",
      "}\n",
      "=======================\n",
      "==========after=========\n",
      "{\n",
      "\"Mr\": 0.569,\n",
      "\"Miss\": 0.201,\n",
      "\"Mrs\": 0.16,\n",
      "\"Rare\": 0.071\n",
      "}\n",
      "=======================\n",
      "test\n",
      "==========sex=========\n",
      "==========before=========\n",
      "{\n",
      "\"male\": 0.687,\n",
      "\"female\": 0.313\n",
      "}\n",
      "=======================\n",
      "==========after=========\n",
      "{\n",
      "\"male\": 0.687,\n",
      "\"female\": 0.313\n",
      "}\n",
      "=======================\n",
      "==========cabin=========\n",
      "==========before=========\n",
      "{\n",
      "\"Missing\": 0.805,\n",
      "\"C\": 0.061,\n",
      "\"B\": 0.05,\n",
      "\"D\": 0.038,\n",
      "\"E\": 0.019,\n",
      "\"A\": 0.011,\n",
      "\"F\": 0.011,\n",
      "\"G\": 0.004\n",
      "}\n",
      "=======================\n",
      "==========after=========\n",
      "{\n",
      "\"Missing\": 0.805,\n",
      "\"Rare\": 0.134,\n",
      "\"C\": 0.061\n",
      "}\n",
      "=======================\n",
      "==========embarked=========\n",
      "==========before=========\n",
      "{\n",
      "\"S\": 0.653,\n",
      "\"C\": 0.248,\n",
      "\"Q\": 0.099\n",
      "}\n",
      "=======================\n",
      "==========after=========\n",
      "{\n",
      "\"S\": 0.653,\n",
      "\"C\": 0.248,\n",
      "\"Q\": 0.099\n",
      "}\n",
      "=======================\n",
      "==========title=========\n",
      "==========before=========\n",
      "{\n",
      "\"Mr\": 0.618,\n",
      "\"Miss\": 0.183,\n",
      "\"Mrs\": 0.13,\n",
      "\"Master\": 0.053,\n",
      "\"Other\": 0.015\n",
      "}\n",
      "=======================\n",
      "==========after=========\n",
      "{\n",
      "\"Mr\": 0.618,\n",
      "\"Miss\": 0.183,\n",
      "\"Mrs\": 0.13,\n",
      "\"Rare\": 0.069\n",
      "}\n",
      "=======================\n"
     ]
    }
   ],
   "source": [
    "\n",
    "def get_frequent_labels(X, col, th=0.05):\n",
    "    labels = X[col].value_counts(normalize=True)\n",
    "    frequent_labels = labels[labels > th].index.to_list()\n",
    "    return frequent_labels\n",
    "\n",
    "def replace_rare_labels(X, col, frequent_labels, rare_label='Rare'):\n",
    "    return np.where(X[col].isin(frequent_labels[col]), X[col], rare_label)\n",
    "\n",
    "\n",
    "joblib.dump(\n",
    "    {col: get_frequent_labels(X_train, col) for col in vars_cat},\n",
    "    'frequent_labels.pkl'\n",
    ")\n",
    "frequent_labels = joblib.load('frequent_labels.pkl')\n",
    "import json\n",
    "print('train')\n",
    "for var in vars_cat:\n",
    "    print(f'=========={var}=========')\n",
    "    print(f'==========before=========')\n",
    "    print(json.dumps(X_train[var].value_counts(normalize=True).round(3).to_dict(), indent=-1))\n",
    "    print(f'=======================')\n",
    "\n",
    "    X_train[var] = replace_rare_labels(X_train, var, frequent_labels, rare_label='Rare')\n",
    "\n",
    "    print(f'==========after=========')\n",
    "    print(json.dumps(X_train[var].value_counts(normalize=True).round(3).to_dict(), indent=-1))\n",
    "    print(f'=======================')\n",
    "\n",
    "\n",
    "print('test')\n",
    "for var in vars_cat:\n",
    "    print(f'=========={var}=========')\n",
    "    print(f'==========before=========')\n",
    "    print(json.dumps(X_test[var].value_counts(normalize=True).round(3).to_dict(), indent=-1))\n",
    "    print(f'=======================')\n",
    "\n",
    "    X_test[var] = replace_rare_labels(X_test, var, frequent_labels, rare_label='Rare')\n",
    "\n",
    "    print(f'==========after=========')\n",
    "    print(json.dumps(X_test[var].value_counts(normalize=True).round(3).to_dict(), indent=-1))\n",
    "    print(f'=======================')\n",
    "\n"
   ]
  },
  {
   "cell_type": "markdown",
   "metadata": {},
   "source": [
    "### Perform one hot encoding of categorical variables into k-1 binary variables\n",
    "\n",
    "- k-1, means that if the variable contains 9 different categories, we create 8 different binary variables\n",
    "- Remember to drop the original categorical variable (the one with the strings) after the encoding"
   ]
  },
  {
   "cell_type": "code",
   "execution_count": 21,
   "metadata": {},
   "outputs": [
    {
     "name": "stdout",
     "output_type": "stream",
     "text": [
      "sex\n",
      "{\n",
      "    \"male\": 0.633,\n",
      "    \"female\": 0.367\n",
      "}\n",
      "cabin\n",
      "{\n",
      "    \"Missing\": 0.767,\n",
      "    \"Rare\": 0.159,\n",
      "    \"C\": 0.074\n",
      "}\n",
      "embarked\n",
      "{\n",
      "    \"S\": 0.71,\n",
      "    \"C\": 0.196,\n",
      "    \"Q\": 0.093,\n",
      "    \"Rare\": 0.002\n",
      "}\n",
      "title\n",
      "{\n",
      "    \"Mr\": 0.569,\n",
      "    \"Miss\": 0.201,\n",
      "    \"Mrs\": 0.16,\n",
      "    \"Rare\": 0.071\n",
      "}\n",
      "train\n",
      "['pclass', 'age', 'sibsp', 'parch', 'fare', 'fare_na', 'age_na', 'sex_male', 'cabin_Missing', 'cabin_Rare', 'embarked_S', 'embarked_C', 'embarked_Q', 'title_Mr', 'title_Miss', 'title_Mrs']\n",
      "===========================0\n",
      "test\n",
      "['pclass', 'age', 'sibsp', 'parch', 'fare', 'fare_na', 'age_na', 'sex_male', 'cabin_Missing', 'cabin_Rare', 'embarked_S', 'embarked_C', 'embarked_Q', 'title_Mr', 'title_Miss', 'title_Mrs']\n"
     ]
    }
   ],
   "source": [
    "# ==========================================================================\n",
    "#  ========== Perform One Hot encoding =================\n",
    "# =========================================================================\n",
    "import json\n",
    "\n",
    "from feature_engine.categorical_encoders import OneHotCategoricalEncoder\n",
    "# X=X_train.select_dtypes(include=[object])\n",
    "\n",
    "for var in vars_cat:\n",
    "    print(var)\n",
    "    print(json.dumps(X_train[var].value_counts(normalize=True).round(3).to_dict(), indent=4))\n",
    "\n",
    "encoder = OneHotCategoricalEncoder(\n",
    "    top_categories=None,\n",
    "    variables=vars_cat,\n",
    "    drop_last=True,\n",
    ")\n",
    "\n",
    "encoder=encoder.fit(X_train)\n",
    "encoder.encoder_dict_\n",
    "# train\n",
    "X_train = encoder.transform(X_train)\n",
    "# test\n",
    "X_test = encoder.transform(X_test)\n",
    "\n",
    "print('train')\n",
    "print(X_train.columns.to_list())\n",
    "print('===========================0')\n",
    "print('test')\n",
    "print(X_test.columns.to_list())\n",
    "\n"
   ]
  },
  {
   "cell_type": "markdown",
   "metadata": {},
   "source": [
    "### Scale the variables\n",
    "\n",
    "- Use the standard scaler from Scikit-learn"
   ]
  },
  {
   "cell_type": "code",
   "execution_count": 23,
   "metadata": {},
   "outputs": [
    {
     "name": "stdout",
     "output_type": "stream",
     "text": [
      "train\n",
      "-2.2479332149298308e-17\n",
      "1.00047789727937\n",
      "============\n",
      "test\n",
      "-0.0044161228738798484\n",
      "0.9327353937183537\n",
      "============\n"
     ]
    }
   ],
   "source": [
    "\n",
    "# ==========================================================================\n",
    "#  ========== Perform One Hot encoding =================\n",
    "# =========================================================================\n",
    "from sklearn.preprocessing import StandardScaler\n",
    "scaler = StandardScaler(with_mean=True, with_std=True)\n",
    "\n",
    "scaler = scaler.fit(X_train)\n",
    "X_train = pd.DataFrame(scaler.transform(X_train), columns=X_train.columns)\n",
    "X_test = pd.DataFrame(scaler.transform(X_test), columns=X_test.columns)\n",
    "\n",
    "# train\n",
    "print('train')\n",
    "print(X_train.mean().mean())\n",
    "print(X_train.std().mean())\n",
    "print('============')\n",
    "\n",
    "# test\n",
    "print('test')\n",
    "print(X_test.mean().mean())\n",
    "print(X_test.std().mean())\n",
    "print('============')\n"
   ]
  },
  {
   "cell_type": "markdown",
   "metadata": {},
   "source": [
    "## Train the Logistic Regression model\n",
    "\n",
    "- Set the regularization parameter to 0.0005\n",
    "- Set the seed to 0"
   ]
  },
  {
   "cell_type": "code",
   "execution_count": 24,
   "metadata": {},
   "outputs": [],
   "source": [
    "C = 1/0.0005\n",
    "model = LogisticRegression(C=C, random_state=0)\n",
    "model = model.fit(X_train, y_train)"
   ]
  },
  {
   "cell_type": "markdown",
   "metadata": {},
   "source": [
    "## Make predictions and evaluate model performance\n",
    "\n",
    "Determine:\n",
    "- roc-auc\n",
    "- accuracy\n",
    "\n",
    "**Important, remember that to determine the accuracy, you need the outcome 0, 1, referring to survived or not. But to determine the roc-auc you need the probability of survival.**"
   ]
  },
  {
   "cell_type": "code",
   "execution_count": null,
   "metadata": {},
   "outputs": [],
   "source": []
  },
  {
   "cell_type": "markdown",
   "metadata": {},
   "source": [
    "That's it! Well done\n",
    "\n",
    "**Keep this code safe, as we will use this notebook later on, to build production code, in our next assignement!!**"
   ]
  },
  {
   "cell_type": "code",
   "execution_count": null,
   "metadata": {},
   "outputs": [],
   "source": []
  }
 ],
 "metadata": {
  "kernelspec": {
   "display_name": "Python 3",
   "language": "python",
   "name": "python3"
  },
  "language_info": {
   "codemirror_mode": {
    "name": "ipython",
    "version": 3
   },
   "file_extension": ".py",
   "mimetype": "text/x-python",
   "name": "python",
   "nbconvert_exporter": "python",
   "pygments_lexer": "ipython3",
   "version": "3.8.2"
  },
  "pycharm": {
   "stem_cell": {
    "cell_type": "raw",
    "metadata": {
     "collapsed": false
    },
    "source": []
   }
  },
  "toc": {
   "nav_menu": {},
   "number_sections": true,
   "sideBar": true,
   "skip_h1_title": false,
   "toc_cell": false,
   "toc_position": {},
   "toc_section_display": true,
   "toc_window_display": true
  }
 },
 "nbformat": 4,
 "nbformat_minor": 4
}
